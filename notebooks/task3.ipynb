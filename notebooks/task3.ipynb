{
 "cells": [
  {
   "cell_type": "code",
   "execution_count": 1,
   "id": "c9ad3a50",
   "metadata": {},
   "outputs": [],
   "source": [
    "import pandas as pd\n",
    "import numpy as np\n",
    "from datetime import datetime, timedelta\n",
    "import matplotlib.pyplot as plt\n",
    "import seaborn as sns\n",
    "\n",
    "df_news = pd.read_csv(r\"C:\\Users\\user\\Desktop\\python10\\week 1 data\\raw_analyst_ratings.csv\\raw_analyst_ratings.csv\")\n",
    "df_price = pd.read_csv(r\"C:\\Users\\user\\Desktop\\python10\\week 1 data\\yfinance_data\\yfinance_data\\AAPL_historical_data.csv\")\n"
   ]
  },
  {
   "cell_type": "markdown",
   "id": "3c1b0ac3",
   "metadata": {},
   "source": [
    "Date Alignment"
   ]
  },
  {
   "cell_type": "code",
   "execution_count": 8,
   "id": "e9594865",
   "metadata": {},
   "outputs": [
    {
     "name": "stdout",
     "output_type": "stream",
     "text": [
      "    news_date                                           headline stock  \\\n",
      "0  2020-06-05            Stocks That Hit 52-Week Highs On Friday     A   \n",
      "1  2020-06-03         Stocks That Hit 52-Week Highs On Wednesday     A   \n",
      "2  2020-05-26                      71 Biggest Movers From Friday     A   \n",
      "3  2020-05-22       46 Stocks Moving In Friday's Mid-Day Session     A   \n",
      "4  2020-05-22  B of A Securities Maintains Neutral on Agilent...     A   \n",
      "\n",
      "       Close  \n",
      "0  82.875000  \n",
      "1  81.279999  \n",
      "2  79.182503  \n",
      "3  79.722504  \n",
      "4  79.722504  \n"
     ]
    }
   ],
   "source": [
    "df_news['date'] = pd.to_datetime(df_news['date'], errors='coerce')\n",
    "df_price['Date'] = pd.to_datetime(df_price['Date'], errors='coerce')\n",
    "\n",
    "df_news['news_date'] = df_news['date'].dt.date\n",
    "df_price['price_date'] = df_price['Date'].dt.date\n",
    "\n",
    "# Merge on the matching date columns\n",
    "merged = pd.merge(df_news, df_price,\n",
    "                  left_on='news_date',\n",
    "                  right_on='price_date',\n",
    "                  how='inner')\n",
    "\n",
    "print(merged[['news_date', 'headline', 'stock', 'Close']].head())\n"
   ]
  },
  {
   "cell_type": "markdown",
   "id": "ca2daf58",
   "metadata": {},
   "source": [
    "Sentiment Analysis"
   ]
  },
  {
   "cell_type": "code",
   "execution_count": 13,
   "id": "f364f171",
   "metadata": {},
   "outputs": [
    {
     "name": "stdout",
     "output_type": "stream",
     "text": [
      "                                            headline  sentiment_score  \\\n",
      "0            Stocks That Hit 52-Week Highs On Friday              0.0   \n",
      "1         Stocks That Hit 52-Week Highs On Wednesday              0.0   \n",
      "2                      71 Biggest Movers From Friday              0.0   \n",
      "3       46 Stocks Moving In Friday's Mid-Day Session              0.0   \n",
      "4  B of A Securities Maintains Neutral on Agilent...              0.0   \n",
      "\n",
      "  sentiment_label  \n",
      "0         Neutral  \n",
      "1         Neutral  \n",
      "2         Neutral  \n",
      "3         Neutral  \n",
      "4         Neutral  \n"
     ]
    }
   ],
   "source": [
    "from textblob import TextBlob\n",
    "\n",
    "def get_sentiment(text):\n",
    "    blob = TextBlob(text)\n",
    "    polarity = blob.sentiment.polarity\n",
    "    if polarity > 0.1:\n",
    "        label = 'Positive'\n",
    "    elif polarity < -0.1:\n",
    "        label = 'Negative'\n",
    "    else:\n",
    "        label = 'Neutral'\n",
    "    return pd.Series([polarity, label])\n",
    "\n",
    "df_news[['sentiment_score', 'sentiment_label']] = df_news['headline'].apply(get_sentiment)\n",
    "\n",
    "print(df_news[['headline', 'sentiment_score', 'sentiment_label']].head())\n"
   ]
  },
  {
   "cell_type": "markdown",
   "id": "7f3870a4",
   "metadata": {},
   "source": [
    "Analysis"
   ]
  },
  {
   "cell_type": "code",
   "execution_count": 11,
   "id": "7ab242fd",
   "metadata": {},
   "outputs": [
    {
     "name": "stdout",
     "output_type": "stream",
     "text": [
      "        Date     Close  daily_return\n",
      "0 1980-12-12  0.128348           NaN\n",
      "1 1980-12-15  0.121652     -5.217061\n",
      "2 1980-12-16  0.112723     -7.339788\n",
      "3 1980-12-17  0.115513      2.475091\n",
      "4 1980-12-18  0.118862      2.899246\n"
     ]
    }
   ],
   "source": [
    "#Calculate Daily Stock Returns\n",
    "\n",
    "df_price['Date'] = pd.to_datetime(df_price['Date'])\n",
    "df_price = df_price.sort_values('Date')\n",
    "\n",
    "# Calculate daily return as % change of 'Close' price\n",
    "df_price['daily_return'] = df_price['Close'].pct_change() * 100  # in percent\n",
    "\n",
    "# Preview the result\n",
    "print(df_price[['Date', 'Close', 'daily_return']].head())\n"
   ]
  },
  {
   "cell_type": "code",
   "execution_count": 14,
   "id": "a42d630d",
   "metadata": {},
   "outputs": [
    {
     "name": "stdout",
     "output_type": "stream",
     "text": [
      "📉 Pearson Correlation Matrix:\n",
      "                 sentiment_score  daily_return\n",
      "sentiment_score         1.000000      0.025741\n",
      "daily_return            0.025741      1.000000\n"
     ]
    }
   ],
   "source": [
    "# Correlation \n",
    "\n",
    "merged_df = pd.merge(df_news, df_price, left_on='news_date', right_on='price_date', how='inner')\n",
    "# Pearson correlation\n",
    "correlation = merged_df[['sentiment_score', 'daily_return']].corr(method='pearson')\n",
    "\n",
    "print(\"📉 Pearson Correlation Matrix:\")\n",
    "print(correlation)\n"
   ]
  },
  {
   "cell_type": "code",
   "execution_count": null,
   "id": "d3f6510a",
   "metadata": {},
   "outputs": [],
   "source": []
  },
  {
   "cell_type": "code",
   "execution_count": null,
   "id": "7ebf7e8c",
   "metadata": {},
   "outputs": [],
   "source": []
  }
 ],
 "metadata": {
  "kernelspec": {
   "display_name": "Python 3",
   "language": "python",
   "name": "python3"
  },
  "language_info": {
   "codemirror_mode": {
    "name": "ipython",
    "version": 3
   },
   "file_extension": ".py",
   "mimetype": "text/x-python",
   "name": "python",
   "nbconvert_exporter": "python",
   "pygments_lexer": "ipython3",
   "version": "3.13.1"
  }
 },
 "nbformat": 4,
 "nbformat_minor": 5
}
